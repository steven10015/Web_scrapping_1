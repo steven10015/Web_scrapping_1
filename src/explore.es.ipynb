{
    "cells": [
        {
            "cell_type": "markdown",
            "metadata": {},
            "source": [
                "# Explora aquí\n",
                "\n",
                "Se recomienda utilizar este cuaderno con fines de exploración."
            ]
        },
        {
            "cell_type": "code",
            "execution_count": null,
            "metadata": {},
            "outputs": [
                {
                    "name": "stdout",
                    "output_type": "stream",
                    "text": [
                        "Correcto\n",
                        "<!DOCTYPE html>\n",
                        "<html class=\"client-nojs vector-feature-language-in-header-enabled vector-feature-language-in-main-page-header-disabled vector-feature-page-tools-pinned-disabled vector-feature-toc-pinned-clientpref-1 vector-feature-main-menu-pinned-disabled vector-feature-limited-width-clientpref-1 vector-feature-limited-width-content-enabled vector-feature-custom-font-size-clientpref-1 vector-feature-appearance-pinned-clientpref-1 vector-feature-night-mode-enabled skin-theme-clientpref-day vector-sticky-header-enabled vector-toc-available\" lang=\"en\" dir=\"ltr\">\n",
                        "<head>\n",
                        "<meta charset=\"UTF-8\">\n",
                        "<title>List of Spotify streaming records - Wikipedia</title>\n",
                        "<script>(function(){var className=\"client-js vector-feature-language-in-header-enabled vector-feature-language-in-main-page-header-disabled vector-feature-page-tools-pinned-disabled vector-feature-toc-pinned-clientpref-1 vector-feature-main-menu-pinned-disabled vector-feature-limited-width-clientpref-1 vector-feature-limited-width-content-\n",
                        "Se encontraron 27 tablas.\n",
                        "  Rank                 Song                 Artist(s) Streams (billions)  \\\n",
                        "0    1    \"Blinding Lights\"                The Weeknd              5.092   \n",
                        "1    2       \"Shape of You\"                Ed Sheeran              4.607   \n",
                        "2    3            \"Starboy\"  The Weeknd and Daft Punk              4.160   \n",
                        "3    4    \"Sweater Weather\"         The Neighbourhood              4.113   \n",
                        "4    5  \"Someone You Loved\"             Lewis Capaldi              4.099   \n",
                        "\n",
                        "        Release date Ref.  \n",
                        "0   29 November 2019  [1]  \n",
                        "1     6 January 2017  [2]  \n",
                        "2  21 September 2016  [3]  \n",
                        "3    3 December 2012  [4]  \n",
                        "4    8 November 2018  [5]  \n"
                    ]
                },
                {
                    "name": "stderr",
                    "output_type": "stream",
                    "text": [
                        "/tmp/ipykernel_649/247708339.py:19: FutureWarning: Passing literal html to 'read_html' is deprecated and will be removed in a future version. To read from a literal string, wrap it in a 'StringIO' object.\n",
                        "  tables = pd.read_html(html)\n"
                    ]
                }
            ],
            "source": [
                "import os\n",
                "from bs4 import BeautifulSoup\n",
                "import requests\n",
                "import pandas as pd\n",
                "import requests\n",
                "import time\n",
                "import sqlite3\n",
                "import matplotlib.pyplot as plt\n",
                "import seaborn as sns\n",
                "\n",
                "# Nuestro url\n",
                "resource_url = \"https://en.wikipedia.org/wiki/List_of_most-streamed_songs_on_Spotify\"\n",
                "# Headers para acceder por temas de seguridad de la página\n",
                "headers = {\"User-Agent\": \"Mozilla/5.0 (Windows NT 10.0; Win64; x64) AppleWebKit/537.36 (KHTML, like Gecko) Chrome/91.0.4472.124 Safari/537.36\"}\n",
                "response = requests.get(resource_url, headers = headers)\n",
                "\n",
                "if response.status_code == 200:\n",
                "    # Verificacion estado del request\n",
                "    print(\"Correcto\")\n",
                "    # Se guarda la variable html\n",
                "    html = response.text\n",
                "    # Se imprime los primeros 1000 caracteres como prueba\n",
                "    print(html[:1000])\n",
                "    # Se hace la lectura de las tablas con pandas\n",
                "    tables = pd.read_html(html)\n",
                "    print(f\"Se encontraron {len(tables)} tablas.\")\n",
                "\n",
                "\n",
                "\n",
                "\n",
                "\n",
                "\n",
                "  "
            ]
        }
    ],
    "metadata": {
        "kernelspec": {
            "display_name": "Python 3",
            "language": "python",
            "name": "python3"
        },
        "language_info": {
            "codemirror_mode": {
                "name": "ipython",
                "version": 3
            },
            "file_extension": ".py",
            "mimetype": "text/x-python",
            "name": "python",
            "nbconvert_exporter": "python",
            "pygments_lexer": "ipython3",
            "version": "3.11.4"
        },
        "orig_nbformat": 4
    },
    "nbformat": 4,
    "nbformat_minor": 2
}
